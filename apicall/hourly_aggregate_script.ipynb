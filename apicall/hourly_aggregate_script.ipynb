{
 "cells": [
  {
   "cell_type": "code",
   "execution_count": null,
   "source": [
    "import pandas as pd\r\n",
    "import numpy as np\r\n",
    "import os"
   ],
   "outputs": [],
   "metadata": {}
  },
  {
   "cell_type": "code",
   "execution_count": null,
   "source": [
    "path = 'clean_csv_data/'\r\n",
    "\r\n",
    "for filename in os.listdir(path):\r\n",
    "    f = os.path.join(path, filename)\r\n",
    "    if os.path.isfile(f):\r\n",
    "        print(f)\r\n",
    "        # opening each csv file\r\n",
    "        df = pd.read_csv(f, index_col=0)\r\n",
    "\r\n",
    "        # initialize new dataframe for hourly aggregate\r\n",
    "        test_df = pd.DataFrame(index = df.index)\r\n",
    "\r\n",
    "        # check the hours of timestamp and add as columns\r\n",
    "        time_dump = []\r\n",
    "        for tstamp in df.columns:\r\n",
    "            t = tstamp.split('+')\r\n",
    "            #print(t)\r\n",
    "            tt = t[0].split('T')[-1]\r\n",
    "            dt = t[0].split('T')[0]\r\n",
    "            timestamp_hour = tt[:2]\r\n",
    "            if timestamp_hour not in time_dump:\r\n",
    "                time_dump.append(timestamp_hour)\r\n",
    "                test_df[str(timestamp_hour)] = 0\r\n",
    "\r\n",
    "        \r\n",
    "        # aggregate hourly readings\r\n",
    "        for tstamp in df.columns:\r\n",
    "            t = tstamp.split('+')\r\n",
    "            #print(t)\r\n",
    "            tt = t[0].split('T')[-1]\r\n",
    "            #print(tt)\r\n",
    "\r\n",
    "            for hour in test_df.columns:\r\n",
    "                if tt[:2] == hour:\r\n",
    "                    test_df[hour] = (test_df[hour] + df[tstamp])\r\n",
    "\r\n",
    "\r\n",
    "        # changing column names \r\n",
    "        date = df.columns[0].split('T')[0]\r\n",
    "        fin_col_name = []\r\n",
    "        for col in test_df.columns:\r\n",
    "            fin_col_name.append('Hour' + col)\r\n",
    "        test_df.columns = fin_col_name\r\n",
    "        test_df.index.name = 'weather_station'\r\n",
    "\r\n",
    "        # saving test_df as hourly aggregate csv data\r\n",
    "        new_path = 'clean_csv_hourly_aggregate/' + filename\r\n",
    "        test_df.to_csv(new_path, encoding='utf-8')\r\n",
    "\r\n",
    "\r\n",
    "\r\n"
   ],
   "outputs": [],
   "metadata": {}
  },
  {
   "cell_type": "code",
   "execution_count": null,
   "source": [],
   "outputs": [],
   "metadata": {}
  }
 ],
 "metadata": {
  "orig_nbformat": 4,
  "language_info": {
   "name": "python",
   "version": "3.8.3",
   "mimetype": "text/x-python",
   "codemirror_mode": {
    "name": "ipython",
    "version": 3
   },
   "pygments_lexer": "ipython3",
   "nbconvert_exporter": "python",
   "file_extension": ".py"
  },
  "kernelspec": {
   "name": "python3",
   "display_name": "Python 3.8.3 64-bit ('base': conda)"
  },
  "interpreter": {
   "hash": "7b4b4feff2f24a0f0a34464dbe537a36fda679851528fb8735cb41fa49dffb2d"
  }
 },
 "nbformat": 4,
 "nbformat_minor": 2
}